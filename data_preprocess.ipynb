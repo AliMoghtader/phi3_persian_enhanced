{
 "cells": [
  {
   "cell_type": "code",
   "execution_count": 47,
   "metadata": {},
   "outputs": [],
   "source": [
    "import pandas as pd\n",
    "from datasets import Dataset\n",
    "import hashlib"
   ]
  },
  {
   "cell_type": "code",
   "execution_count": 48,
   "metadata": {},
   "outputs": [
    {
     "name": "stdout",
     "output_type": "stream",
     "text": [
      "['Persian-WikiText-4.txt', 'Persian-WikiText-7.txt', 'Persian-WikiText-5.txt', 'Persian-WikiText-6.txt', 'Persian-WikiText-8.txt', 'Persian-WikiText-2.txt', 'Persian-WikiText-3.txt', 'Persian-WikiText-9.txt', 'Persian-WikiText-1.txt']\n"
     ]
    }
   ],
   "source": [
    "import os\n",
    "\n",
    "directory = \"dataset\"\n",
    "\n",
    "files = [f for f in os.listdir(directory) if f.endswith('.txt')]\n",
    "\n",
    "print(files)"
   ]
  },
  {
   "cell_type": "code",
   "execution_count": 62,
   "metadata": {},
   "outputs": [
    {
     "name": "stdout",
     "output_type": "stream",
     "text": [
      "Dataset({\n",
      "    features: ['prompt', 'prompt_id', 'messages'],\n",
      "    num_rows: 739871\n",
      "})\n"
     ]
    },
    {
     "name": "stderr",
     "output_type": "stream",
     "text": [
      "Saving the dataset (2/2 shards): 100%|██████████| 739871/739871 [00:00<00:00, 781508.17 examples/s] \n"
     ]
    }
   ],
   "source": [
    "\n",
    "prompts =[]\n",
    "prompt_ids = []\n",
    "messages = []\n",
    "lines_counter = 0\n",
    "prompt_id = 0\n",
    "message = \"\"\n",
    "for file in files:\n",
    "    with open(\"dataset/\"+file, 'r') as file:\n",
    "        lines = file.readlines()\n",
    "    lines_counter = 0\n",
    "    while lines_counter < len(lines):\n",
    "        if \"عنوان مقاله:\" in lines[lines_counter]:\n",
    "            prompts.append(lines[lines_counter].split(\":\")[1].strip())\n",
    "            prompt_ids.append(prompt_id)\n",
    "            prompt_id += 1\n",
    "            message = \"\"\n",
    "        else:\n",
    "            message = message + lines[lines_counter]\n",
    "        if lines_counter < len(lines)-1:\n",
    "            if \"عنوان مقاله:\" in lines[lines_counter+1]:\n",
    "                messages.append([{\"content\":prompts[-1], \"role\":\"user\"},{\"content\":message,\"role\":\"assistant\"}])\n",
    "                message = \"\"\n",
    "        lines_counter += 1\n",
    "    messages.append([{\"content\":prompts[-1], \"role\":\"user\"},{\"content\":message,\"role\":\"assistant\"}])\n",
    "\n",
    "\n",
    "data = {\n",
    "    \"prompts\": prompts,\n",
    "    \"prompt_ids\": prompt_ids,\n",
    "    \"messages\": messages\n",
    "}\n",
    "df = pd.DataFrame(data)\n",
    "\n",
    "df['prompt'] = df['prompts']\n",
    "df['prompt_id'] = df['prompt_ids']\n",
    "df['messages'] = df['messages']\n",
    "\n",
    "formatted_df = df[['prompt', 'prompt_id', 'messages']]\n",
    "\n",
    "persian_wikipedia = Dataset.from_pandas(formatted_df)\n",
    "\n",
    "print(persian_wikipedia)\n",
    "\n",
    "persian_wikipedia.save_to_disk(\"persian_wikipedia\")"
   ]
  },
  {
   "cell_type": "code",
   "execution_count": null,
   "metadata": {},
   "outputs": [],
   "source": []
  }
 ],
 "metadata": {
  "kernelspec": {
   "display_name": "phi3-updated",
   "language": "python",
   "name": "python3"
  },
  "language_info": {
   "codemirror_mode": {
    "name": "ipython",
    "version": 3
   },
   "file_extension": ".py",
   "mimetype": "text/x-python",
   "name": "python",
   "nbconvert_exporter": "python",
   "pygments_lexer": "ipython3",
   "version": "3.13.1"
  }
 },
 "nbformat": 4,
 "nbformat_minor": 2
}
